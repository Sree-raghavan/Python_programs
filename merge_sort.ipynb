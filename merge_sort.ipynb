{
  "nbformat": 4,
  "nbformat_minor": 0,
  "metadata": {
    "colab": {
      "name": "merge_sort.ipynb",
      "provenance": [],
      "collapsed_sections": []
    },
    "kernelspec": {
      "name": "python3",
      "display_name": "Python 3"
    }
  },
  "cells": [
    {
      "cell_type": "code",
      "metadata": {
        "id": "7NJP9_2qNl9C",
        "colab_type": "code",
        "colab": {
          "base_uri": "https://localhost:8080/",
          "height": 85
        },
        "outputId": "025639f8-5d63-4e2f-931f-15ae1ed39214"
      },
      "source": [
        "# Python program for implementation of MergeSort\n",
        "\n",
        "def merge_sort(values): \n",
        "\tif len(values)>1: \n",
        "\t\tm = len(values)//2\n",
        "\t\tleft = values[:m] \n",
        "\t\tright = values[m:] \n",
        "\t\tleft = merge_sort(left) \n",
        "\t\tright = merge_sort(right) \n",
        "\t\tvalues =[] \n",
        "\t\twhile len(left)>0 and len(right)>0: \n",
        "\t\t\tif left[0]<right[0]: \n",
        "\t\t\t\tvalues.append(left[0]) \n",
        "\t\t\t\tleft.pop(0) \n",
        "\t\t\telse: \n",
        "\t\t\t\tvalues.append(right[0]) \n",
        "\t\t\t\tright.pop(0) \n",
        "\t\tfor i in left: \n",
        "\t\t\tvalues.append(i) \n",
        "\t\tfor i in right: \n",
        "\t\t\tvalues.append(i) \t\t\t\n",
        "\treturn values \n",
        "\n",
        "# Input list \n",
        "a = [12, 11, 13, 5, 6, 7] \n",
        "print(\"Given array is\") \n",
        "print(*a) \n",
        "a = merge_sort(a) \n",
        "print(\"Sorted array is : \") \n",
        "print(*a) \n",
        "\n"
      ],
      "execution_count": 1,
      "outputs": [
        {
          "output_type": "stream",
          "text": [
            "Given array is\n",
            "12 11 13 5 6 7\n",
            "Sorted array is : \n",
            "5 6 7 11 12 13\n"
          ],
          "name": "stdout"
        }
      ]
    }
  ]
}