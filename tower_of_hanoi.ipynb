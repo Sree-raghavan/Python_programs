{
  "nbformat": 4,
  "nbformat_minor": 0,
  "metadata": {
    "colab": {
      "name": "tower of hanoi.ipynb",
      "provenance": []
    },
    "kernelspec": {
      "name": "python3",
      "display_name": "Python 3"
    }
  },
  "cells": [
    {
      "cell_type": "code",
      "metadata": {
        "id": "IV2toTQT7jKM",
        "outputId": "82711a50-9ca2-448b-8342-3931a1194a73",
        "colab": {
          "base_uri": "https://localhost:8080/",
          "height": 272
        }
      },
      "source": [
        "\n",
        "# Recursive Python function to solve the tower of hanoi \n",
        "  \n",
        "def TowerOfHanoi(n , source, destination, auxiliary): \n",
        "    if n==1: \n",
        "        print (\"Move disk 1 from source\",source,\"to destination\",destination )\n",
        "        return\n",
        "    TowerOfHanoi(n-1, source, auxiliary, destination) \n",
        "    print (\"Move disk\",n,\"from source\",source,\"to destination\",destination )\n",
        "    TowerOfHanoi(n-1, auxiliary, destination, source) \n",
        "          \n",
        "# Driver code \n",
        "n = 4\n",
        "TowerOfHanoi(n,'A','B','C')  \n",
        "# A, C, B are the name of rods \n"
      ],
      "execution_count": 5,
      "outputs": [
        {
          "output_type": "stream",
          "text": [
            "Move disk 1 from source A to destination C\n",
            "Move disk 2 from source A to destination B\n",
            "Move disk 1 from source C to destination B\n",
            "Move disk 3 from source A to destination C\n",
            "Move disk 1 from source B to destination A\n",
            "Move disk 2 from source B to destination C\n",
            "Move disk 1 from source A to destination C\n",
            "Move disk 4 from source A to destination B\n",
            "Move disk 1 from source C to destination B\n",
            "Move disk 2 from source C to destination A\n",
            "Move disk 1 from source B to destination A\n",
            "Move disk 3 from source C to destination B\n",
            "Move disk 1 from source A to destination C\n",
            "Move disk 2 from source A to destination B\n",
            "Move disk 1 from source C to destination B\n"
          ],
          "name": "stdout"
        }
      ]
    }
  ]
}