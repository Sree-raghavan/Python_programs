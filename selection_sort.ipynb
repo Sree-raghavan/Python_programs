{
  "nbformat": 4,
  "nbformat_minor": 0,
  "metadata": {
    "colab": {
      "name": "selection_sort.ipynb",
      "provenance": [],
      "collapsed_sections": []
    },
    "kernelspec": {
      "name": "python3",
      "display_name": "Python 3"
    }
  },
  "cells": [
    {
      "cell_type": "code",
      "metadata": {
        "id": "RID1QOr7MmDK",
        "colab_type": "code",
        "colab": {}
      },
      "source": [
        "# Python program for implementation of Selection sort\n",
        "A = [64, 25, 12, 22, 11] \n",
        "for i in range(len(A)): \n",
        "\tmin_idx = i \n",
        "\tfor j in range(i+1, len(A)): \n",
        "\t\tif A[min_idx] > A[j]: \n",
        "\t\t\tmin_idx = j \n",
        "\tA[i], A[min_idx] = A[min_idx], A[i] \n",
        "\n",
        "\n",
        "print (\"Sorted array\") \n",
        "for i in range(len(A)): \n",
        "\tprint(\"%d\" %A[i]), \n"
      ],
      "execution_count": null,
      "outputs": []
    }
  ]
}