{
  "nbformat": 4,
  "nbformat_minor": 0,
  "metadata": {
    "colab": {
      "name": "prefix_solver.ipynb",
      "provenance": [],
      "collapsed_sections": []
    },
    "kernelspec": {
      "name": "python3",
      "display_name": "Python 3"
    }
  },
  "cells": [
    {
      "cell_type": "code",
      "metadata": {
        "id": "K9CniFBhGuIU",
        "colab_type": "code",
        "colab": {}
      },
      "source": [
        "\"\"\" \n",
        "Python program to evaluate a prefix expression. \n",
        "\"\"\"\n",
        "\n",
        "\n",
        "def is_operand(c): \n",
        "\t\"\"\" \n",
        "\tReturn True if the given char c is an operand, e.g. it is a number \n",
        "\t\"\"\"\n",
        "\treturn c.isdigit() \n",
        "\n",
        "\n",
        "def evaluate(expression): \n",
        "\t\"\"\" \n",
        "\tEvaluate a given expression in prefix notation. \n",
        "\tAsserts that the given expression is valid. \n",
        "\t\"\"\"\n",
        "\tstack = [] \n",
        "\t# iterate over the string in reverse order \n",
        "\tfor c in expression[::-1]: \n",
        "\n",
        "\t\t# push operand to stack \n",
        "\t\tif is_operand(c): \n",
        "\t\t\tstack.append(int(c)) \n",
        "\n",
        "\t\telse: \n",
        "\t\t\t# pop values from stack can calculate the result \n",
        "\t\t\t# push the result onto the stack again \n",
        "\t\t\to1 = stack.pop() \n",
        "\t\t\to2 = stack.pop() \n",
        "\n",
        "\t\t\tif c == '+': \n",
        "\t\t\t\tstack.append(o1 + o2) \n",
        "\t\t\telif c == '-': \n",
        "\t\t\t\tstack.append(o1 - o2) \n",
        "\t\t\telif c == '*': \n",
        "\t\t\t\tstack.append(o1 * o2) \n",
        "\t\t\telif c == '/': \n",
        "\t\t\t\tstack.append(o1 / o2) \n",
        "\treturn stack.pop() \n",
        " \n",
        "if __name__ == \"__main__\": \n",
        "\ttest_expression = \"+9*26\"\n",
        "\tprint(evaluate(test_expression)) "
      ],
      "execution_count": null,
      "outputs": []
    }
  ]
}